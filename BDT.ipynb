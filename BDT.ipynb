{
 "cells": [
  {
   "cell_type": "markdown",
   "metadata": {},
   "source": [
    "### Black Derman Toy 모형을 이용한 조정선도이자율 도출 모델"
   ]
  },
  {
   "cell_type": "code",
   "execution_count": 1,
   "metadata": {},
   "outputs": [],
   "source": [
    "import numpy as np\n",
    "import pandas as pd\n",
    "import math"
   ]
  },
  {
   "cell_type": "markdown",
   "metadata": {},
   "source": [
    "기본가정"
   ]
  },
  {
   "cell_type": "code",
   "execution_count": 2,
   "metadata": {},
   "outputs": [],
   "source": [
    "# node 수\n",
    "num_node = 5\n",
    "# volatility\n",
    "vol = 0.1\n",
    "p = 0.5\n",
    "up = np.exp(vol)\n",
    "down = 1/up\n",
    "# 만기액면금액\n",
    "fv = 10000\n",
    "#YTM\n",
    "ytm = [0.05, 0.0551, 0.0604, 0.0659, 0.0715]\n",
    "adj = np.zeros(num_node)\n",
    "#채권 기간별 현재가치(YTM 할인)\n",
    "pv = [fv/(1+ytm[i])**(i+1) for i in range(num_node)]\n"
   ]
  },
  {
   "cell_type": "code",
   "execution_count": 3,
   "metadata": {},
   "outputs": [
    {
     "data": {
      "text/html": [
       "<div>\n",
       "<style scoped>\n",
       "    .dataframe tbody tr th:only-of-type {\n",
       "        vertical-align: middle;\n",
       "    }\n",
       "\n",
       "    .dataframe tbody tr th {\n",
       "        vertical-align: top;\n",
       "    }\n",
       "\n",
       "    .dataframe thead th {\n",
       "        text-align: right;\n",
       "    }\n",
       "</style>\n",
       "<table border=\"1\" class=\"dataframe\">\n",
       "  <thead>\n",
       "    <tr style=\"text-align: right;\">\n",
       "      <th></th>\n",
       "      <th>0</th>\n",
       "      <th>1</th>\n",
       "      <th>2</th>\n",
       "      <th>3</th>\n",
       "      <th>4</th>\n",
       "    </tr>\n",
       "  </thead>\n",
       "  <tbody>\n",
       "    <tr>\n",
       "      <th>0</th>\n",
       "      <td>0.05</td>\n",
       "      <td>0.055259</td>\n",
       "      <td>0.061070</td>\n",
       "      <td>0.067493</td>\n",
       "      <td>0.074591</td>\n",
       "    </tr>\n",
       "    <tr>\n",
       "      <th>1</th>\n",
       "      <td>0.00</td>\n",
       "      <td>0.045242</td>\n",
       "      <td>0.050000</td>\n",
       "      <td>0.055259</td>\n",
       "      <td>0.061070</td>\n",
       "    </tr>\n",
       "    <tr>\n",
       "      <th>2</th>\n",
       "      <td>0.00</td>\n",
       "      <td>0.000000</td>\n",
       "      <td>0.040937</td>\n",
       "      <td>0.045242</td>\n",
       "      <td>0.050000</td>\n",
       "    </tr>\n",
       "    <tr>\n",
       "      <th>3</th>\n",
       "      <td>0.00</td>\n",
       "      <td>0.000000</td>\n",
       "      <td>0.000000</td>\n",
       "      <td>0.037041</td>\n",
       "      <td>0.040937</td>\n",
       "    </tr>\n",
       "    <tr>\n",
       "      <th>4</th>\n",
       "      <td>0.00</td>\n",
       "      <td>0.000000</td>\n",
       "      <td>0.000000</td>\n",
       "      <td>0.000000</td>\n",
       "      <td>0.033516</td>\n",
       "    </tr>\n",
       "  </tbody>\n",
       "</table>\n",
       "</div>"
      ],
      "text/plain": [
       "      0         1         2         3         4\n",
       "0  0.05  0.055259  0.061070  0.067493  0.074591\n",
       "1  0.00  0.045242  0.050000  0.055259  0.061070\n",
       "2  0.00  0.000000  0.040937  0.045242  0.050000\n",
       "3  0.00  0.000000  0.000000  0.037041  0.040937\n",
       "4  0.00  0.000000  0.000000  0.000000  0.033516"
      ]
     },
     "execution_count": 3,
     "metadata": {},
     "output_type": "execute_result"
    }
   ],
   "source": [
    "#조정전 선도이자율 tree 생성\n",
    "spt = np.zeros((num_node,num_node))\n",
    "for i in range(num_node):\n",
    "    for j in range(num_node):\n",
    "        if i == 0 and j == 0:\n",
    "            spt[i,j] = ytm[0]\n",
    "        elif spt[i,j] > 0:\n",
    "            spt[i,j] = spt[i,j]\n",
    "        else:\n",
    "            if i>j:\n",
    "                spt[i,j] = spt[i-1,j]*up\n",
    "            elif i == j:\n",
    "                spt[i,j] = spt[i-1, j-1] * down\n",
    "            else:\n",
    "                spt[i,j] = 0\n",
    "\n",
    "pd.DataFrame(spt.T)"
   ]
  },
  {
   "cell_type": "markdown",
   "metadata": {},
   "source": [
    "기간별 채권가치 산정"
   ]
  },
  {
   "cell_type": "code",
   "execution_count": 4,
   "metadata": {},
   "outputs": [],
   "source": [
    "def pvr(n):\n",
    "    y = np.zeros((num_node+10,num_node+10,num_node+10))\n",
    "    for i in range(num_node+1):\n",
    "        for a in range(i+1,0,-1):\n",
    "            for b in range(i+1,0,-1):\n",
    "                c = i\n",
    "                if int(a) == c+1:\n",
    "                    y[a,b,c] = fv\n",
    "                elif y[a,b,c] > 0:\n",
    "                    y[a,b,c] = y[a,b,c]\n",
    "                elif int(a) >= int(b):\n",
    "                    y[a,b,c] = (y[a + 1, b, c] / (1 + spt[a-1, b-1] + adj[a - 1])) * p + (y[a + 1, b + 1, c] / (1 + spt[a-1, b-1] + adj[a - 1])) * (1 - p)\n",
    "                else:\n",
    "                    y[a,b,c] = 0\n",
    "    return y[1,1,n]"
   ]
  },
  {
   "cell_type": "markdown",
   "metadata": {},
   "source": [
    "조정선도이자율 도출을 위한 cost function"
   ]
  },
  {
   "cell_type": "code",
   "execution_count": 5,
   "metadata": {},
   "outputs": [
    {
     "name": "stdout",
     "output_type": "stream",
     "text": [
      "0.0\n",
      "85.5189526553986\n",
      "246.29001524460364\n",
      "470.1199239943526\n",
      "740.063542988385\n"
     ]
    }
   ],
   "source": [
    "def cost(n):\n",
    "    return pvr(n+1) - pv[n]\n",
    "\n",
    "for i in range(num_node):\n",
    "    print(cost(i))"
   ]
  },
  {
   "cell_type": "markdown",
   "metadata": {},
   "source": [
    "Gradient Descent"
   ]
  },
  {
   "cell_type": "code",
   "execution_count": 6,
   "metadata": {},
   "outputs": [],
   "source": [
    "adj = np.zeros(num_node)\n",
    "for i in range(1,num_node):\n",
    "    tick = 0.0000000002\n",
    "    k = 0\n",
    "    while abs(cost(i)) > 0.01:\n",
    "        k += 1\n",
    "        d1 = cost(i)\n",
    "        adj[i] += 0.000001\n",
    "        d = (cost(i) - d1)/0.000001\n",
    "        adj[i] -= 0.000001\n",
    "        adj[i] -=  tick*d\n",
    "        if k > 50000:\n",
    "            break\n",
    "\n"
   ]
  },
  {
   "cell_type": "markdown",
   "metadata": {},
   "source": [
    "결과 확인"
   ]
  },
  {
   "cell_type": "code",
   "execution_count": 7,
   "metadata": {},
   "outputs": [
    {
     "name": "stdout",
     "output_type": "stream",
     "text": [
      "1년차    0.000000\n",
      "2년차    0.009999\n",
      "3년차    0.020648\n",
      "4년차    0.031960\n",
      "5년차    0.043427\n",
      "dtype: float64\n"
     ]
    },
    {
     "data": {
      "text/html": [
       "<div>\n",
       "<style scoped>\n",
       "    .dataframe tbody tr th:only-of-type {\n",
       "        vertical-align: middle;\n",
       "    }\n",
       "\n",
       "    .dataframe tbody tr th {\n",
       "        vertical-align: top;\n",
       "    }\n",
       "\n",
       "    .dataframe thead th {\n",
       "        text-align: right;\n",
       "    }\n",
       "</style>\n",
       "<table border=\"1\" class=\"dataframe\">\n",
       "  <thead>\n",
       "    <tr style=\"text-align: right;\">\n",
       "      <th></th>\n",
       "      <th>0</th>\n",
       "      <th>1</th>\n",
       "      <th>2</th>\n",
       "      <th>3</th>\n",
       "      <th>4</th>\n",
       "    </tr>\n",
       "  </thead>\n",
       "  <tbody>\n",
       "    <tr>\n",
       "      <th>0</th>\n",
       "      <td>0.05</td>\n",
       "      <td>0.065257</td>\n",
       "      <td>0.081718</td>\n",
       "      <td>0.099453</td>\n",
       "      <td>0.118018</td>\n",
       "    </tr>\n",
       "    <tr>\n",
       "      <th>1</th>\n",
       "      <td>0.00</td>\n",
       "      <td>0.055241</td>\n",
       "      <td>0.070648</td>\n",
       "      <td>0.087218</td>\n",
       "      <td>0.104497</td>\n",
       "    </tr>\n",
       "    <tr>\n",
       "      <th>2</th>\n",
       "      <td>0.00</td>\n",
       "      <td>0.000000</td>\n",
       "      <td>0.061585</td>\n",
       "      <td>0.077202</td>\n",
       "      <td>0.093427</td>\n",
       "    </tr>\n",
       "    <tr>\n",
       "      <th>3</th>\n",
       "      <td>0.00</td>\n",
       "      <td>0.000000</td>\n",
       "      <td>0.000000</td>\n",
       "      <td>0.069001</td>\n",
       "      <td>0.084364</td>\n",
       "    </tr>\n",
       "    <tr>\n",
       "      <th>4</th>\n",
       "      <td>0.00</td>\n",
       "      <td>0.000000</td>\n",
       "      <td>0.000000</td>\n",
       "      <td>0.000000</td>\n",
       "      <td>0.076943</td>\n",
       "    </tr>\n",
       "  </tbody>\n",
       "</table>\n",
       "</div>"
      ],
      "text/plain": [
       "      0         1         2         3         4\n",
       "0  0.05  0.065257  0.081718  0.099453  0.118018\n",
       "1  0.00  0.055241  0.070648  0.087218  0.104497\n",
       "2  0.00  0.000000  0.061585  0.077202  0.093427\n",
       "3  0.00  0.000000  0.000000  0.069001  0.084364\n",
       "4  0.00  0.000000  0.000000  0.000000  0.076943"
      ]
     },
     "execution_count": 7,
     "metadata": {},
     "output_type": "execute_result"
    }
   ],
   "source": [
    "# 조정선도이자율:\n",
    "index = [str(i+1) + \"년차\" for i in range(num_node)]\n",
    "print(pd.Series(adj, index = index))\n",
    "adjspt = np.zeros((num_node,num_node))\n",
    "for i in range(num_node):\n",
    "    for j in range(num_node):\n",
    "        if i>=j:\n",
    "            adjspt[i,j] = spt[i,j] + adj[i]\n",
    "pd.DataFrame(adjspt.T)"
   ]
  },
  {
   "cell_type": "code",
   "execution_count": 8,
   "metadata": {},
   "outputs": [
    {
     "data": {
      "text/plain": [
       "1년차    9523.809524\n",
       "2년차    8982.817557\n",
       "3년차    8386.701160\n",
       "4년차    7747.020397\n",
       "5년차    7080.097639\n",
       "dtype: float64"
      ]
     },
     "execution_count": 8,
     "metadata": {},
     "output_type": "execute_result"
    }
   ],
   "source": [
    "#기간별 채권가치\n",
    "adjpv = [pvr(i+1) for i in range(num_node)]\n",
    "pd.Series(adjpv, index = index)"
   ]
  },
  {
   "cell_type": "code",
   "execution_count": 9,
   "metadata": {},
   "outputs": [
    {
     "name": "stdout",
     "output_type": "stream",
     "text": [
      "0.0\n",
      "-0.0036145089361525606\n",
      "0.006284629342189874\n",
      "0.00978001353723812\n",
      "0.002017991233515204\n"
     ]
    }
   ],
   "source": [
    "#Cost Function 확인\n",
    "for i in range(num_node):\n",
    "    print(cost(i))"
   ]
  },
  {
   "cell_type": "code",
   "execution_count": null,
   "metadata": {},
   "outputs": [],
   "source": []
  }
 ],
 "metadata": {
  "kernelspec": {
   "display_name": "Python 3",
   "language": "python",
   "name": "python3"
  },
  "language_info": {
   "codemirror_mode": {
    "name": "ipython",
    "version": 3
   },
   "file_extension": ".py",
   "mimetype": "text/x-python",
   "name": "python",
   "nbconvert_exporter": "python",
   "pygments_lexer": "ipython3",
   "version": "3.7.6"
  }
 },
 "nbformat": 4,
 "nbformat_minor": 4
}
